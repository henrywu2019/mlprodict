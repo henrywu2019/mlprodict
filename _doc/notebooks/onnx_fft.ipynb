{
  "cells": [
    {
      "cell_type": "markdown",
      "id": "51bc89fc",
      "metadata": {},
      "source": [
        "# ONNX and FFT\n",
        "\n",
        "ONNX does not fully support complex yet. It does not have any FFT operators either. What if we need them anyway?"
      ]
    },
    {
      "cell_type": "code",
      "execution_count": 1,
      "id": "7b2add97",
      "metadata": {},
      "outputs": [
        {
          "data": {
            "text/html": [
              "<div id=\"my_id_menu_nb\">run previous cell, wait for 2 seconds</div>\n",
              "<script>\n",
              "function repeat_indent_string(n){\n",
              "    var a = \"\" ;\n",
              "    for ( ; n > 0 ; --n)\n",
              "        a += \"    \";\n",
              "    return a;\n",
              "}\n",
              "// look up into all sections and builds an automated menu //\n",
              "var update_menu_string = function(begin, lfirst, llast, sformat, send, keep_item, begin_format, end_format) {\n",
              "    var anchors = document.getElementsByClassName(\"section\");\n",
              "    if (anchors.length == 0) {\n",
              "        anchors = document.getElementsByClassName(\"text_cell_render rendered_html\");\n",
              "    }\n",
              "    var i,t;\n",
              "    var text_menu = begin;\n",
              "    var text_memo = \"<pre>\\nlength:\" + anchors.length + \"\\n\";\n",
              "    var ind = \"\";\n",
              "    var memo_level = 1;\n",
              "    var href;\n",
              "    var tags = [];\n",
              "    var main_item = 0;\n",
              "    var format_open = 0;\n",
              "    for (i = 0; i <= llast; i++)\n",
              "        tags.push(\"h\" + i);\n",
              "\n",
              "    for (i = 0; i < anchors.length; i++) {\n",
              "        text_memo += \"**\" + anchors[i].id + \"--\\n\";\n",
              "\n",
              "        var child = null;\n",
              "        for(t = 0; t < tags.length; t++) {\n",
              "            var r = anchors[i].getElementsByTagName(tags[t]);\n",
              "            if (r.length > 0) {\n",
              "child = r[0];\n",
              "break;\n",
              "            }\n",
              "        }\n",
              "        if (child == null) {\n",
              "            text_memo += \"null\\n\";\n",
              "            continue;\n",
              "        }\n",
              "        if (anchors[i].hasAttribute(\"id\")) {\n",
              "            // when converted in RST\n",
              "            href = anchors[i].id;\n",
              "            text_memo += \"#1-\" + href;\n",
              "            // passer \u00e0 child suivant (le chercher)\n",
              "        }\n",
              "        else if (child.hasAttribute(\"id\")) {\n",
              "            // in a notebook\n",
              "            href = child.id;\n",
              "            text_memo += \"#2-\" + href;\n",
              "        }\n",
              "        else {\n",
              "            text_memo += \"#3-\" + \"*\" + \"\\n\";\n",
              "            continue;\n",
              "        }\n",
              "        var title = child.textContent;\n",
              "        var level = parseInt(child.tagName.substring(1,2));\n",
              "\n",
              "        text_memo += \"--\" + level + \"?\" + lfirst + \"--\" + title + \"\\n\";\n",
              "\n",
              "        if ((level < lfirst) || (level > llast)) {\n",
              "            continue ;\n",
              "        }\n",
              "        if (title.endsWith('\u00b6')) {\n",
              "            title = title.substring(0,title.length-1).replace(\"<\", \"&lt;\")\n",
              "         .replace(\">\", \"&gt;\").replace(\"&\", \"&amp;\");\n",
              "        }\n",
              "        if (title.length == 0) {\n",
              "            continue;\n",
              "        }\n",
              "\n",
              "        while (level < memo_level) {\n",
              "            text_menu += end_format + \"</ul>\\n\";\n",
              "            format_open -= 1;\n",
              "            memo_level -= 1;\n",
              "        }\n",
              "        if (level == lfirst) {\n",
              "            main_item += 1;\n",
              "        }\n",
              "        if (keep_item != -1 && main_item != keep_item + 1) {\n",
              "            // alert(main_item + \" - \" + level + \" - \" + keep_item);\n",
              "            continue;\n",
              "        }\n",
              "        while (level > memo_level) {\n",
              "            text_menu += \"<ul>\\n\";\n",
              "            memo_level += 1;\n",
              "        }\n",
              "        text_menu += repeat_indent_string(level-2);\n",
              "        text_menu += begin_format + sformat.replace(\"__HREF__\", href).replace(\"__TITLE__\", title);\n",
              "        format_open += 1;\n",
              "    }\n",
              "    while (1 < memo_level) {\n",
              "        text_menu += end_format + \"</ul>\\n\";\n",
              "        memo_level -= 1;\n",
              "        format_open -= 1;\n",
              "    }\n",
              "    text_menu += send;\n",
              "    //text_menu += \"\\n\" + text_memo;\n",
              "\n",
              "    while (format_open > 0) {\n",
              "        text_menu += end_format;\n",
              "        format_open -= 1;\n",
              "    }\n",
              "    return text_menu;\n",
              "};\n",
              "var update_menu = function() {\n",
              "    var sbegin = \"\";\n",
              "    var sformat = '<a href=\"#__HREF__\">__TITLE__</a>';\n",
              "    var send = \"\";\n",
              "    var begin_format = '<li>';\n",
              "    var end_format = '</li>';\n",
              "    var keep_item = -1;\n",
              "    var text_menu = update_menu_string(sbegin, 2, 4, sformat, send, keep_item,\n",
              "       begin_format, end_format);\n",
              "    var menu = document.getElementById(\"my_id_menu_nb\");\n",
              "    menu.innerHTML=text_menu;\n",
              "};\n",
              "window.setTimeout(update_menu,2000);\n",
              "            </script>"
            ],
            "text/plain": [
              "<IPython.core.display.HTML object>"
            ]
          },
          "execution_count": 2,
          "metadata": {},
          "output_type": "execute_result"
        }
      ],
      "source": [
        "from jyquickhelper import add_notebook_menu\n",
        "add_notebook_menu()"
      ]
    },
    {
      "cell_type": "code",
      "execution_count": 2,
      "id": "acfdc3b0",
      "metadata": {},
      "outputs": [],
      "source": [
        "%load_ext mlprodict"
      ]
    },
    {
      "cell_type": "markdown",
      "id": "2e4f68e4",
      "metadata": {},
      "source": [
        "## Python implementation of RFFT\n",
        "\n",
        "We try to replicate [numpy.rfft](https://numpy.org/doc/stable/reference/generated/numpy.fft.rfft.html)."
      ]
    },
    {
      "cell_type": "code",
      "execution_count": 3,
      "id": "cb1cc910",
      "metadata": {},
      "outputs": [
        {
          "data": {
            "text/plain": [
              "array([[-1.95968306e+00+0.j        ,  2.80051970e+00+1.72947609j,\n",
              "         3.50391865e-03+0.j        ],\n",
              "       [ 4.89132166e-01+0.j        ,  1.36114281e+00+0.86927813j,\n",
              "         5.75416410e+00+0.j        ],\n",
              "       [-2.04808140e+00+0.j        ,  2.23222792e-01+0.40871835j,\n",
              "        -1.47002804e+00+0.j        ]])"
            ]
          },
          "execution_count": 4,
          "metadata": {},
          "output_type": "execute_result"
        }
      ],
      "source": [
        "import numpy\n",
        "\n",
        "\n",
        "def almost_equal(a, b, error=1e-5):\n",
        "    \"\"\"\n",
        "    The function compares two matrices, one may be complex. In that case,\n",
        "    this matrix is changed into a new matrix with a new first dimension,\n",
        "    [0,::] means real part, [1,::] means imaginary part.\n",
        "    \"\"\"\n",
        "    if b.dtype in (numpy.complex64, numpy.complex128):\n",
        "        return almost_equal(b, a, error)\n",
        "    if a.dtype in (numpy.complex64, numpy.complex128):\n",
        "        new_a = numpy.empty((2,) + a.shape).astype(b.dtype)\n",
        "        new_a[0] = numpy.real(a) \n",
        "        new_a[1] = numpy.imag(a)\n",
        "        return almost_equal(new_a, b)\n",
        "    if a.shape != b.shape:\n",
        "        raise AssertionError(\"Shape mismatch %r != %r.\" % (a.shape, b.shape))\n",
        "    diff = numpy.abs(a.ravel() - b.ravel()).max()\n",
        "    if diff > error:\n",
        "        raise AssertionError(\"Mismatch max diff=%r > %r.\" % (diff, error))\n",
        "\n",
        "\n",
        "def dft_real_cst(N, fft_length):\n",
        "    n = numpy.arange(N)\n",
        "    k = n.reshape((N, 1)).astype(numpy.float64)\n",
        "    M = numpy.exp(-2j * numpy.pi * k * n / fft_length)\n",
        "    both = numpy.empty((2,) + M.shape)\n",
        "    both[0, :, :] = numpy.real(M)\n",
        "    both[1, :, :] = numpy.imag(M)\n",
        "    return both\n",
        "\n",
        "\n",
        "def dft_real(x, fft_length=None):\n",
        "    if len(x.shape) == 1:\n",
        "        x = x.reshape((-1, 1))\n",
        "    else:\n",
        "        x = x.T\n",
        "    if fft_length is None:\n",
        "        fft_length = x.shape[0]\n",
        "    size = fft_length // 2 + 1\n",
        "    cst = dft_real_cst(x.shape[0], fft_length)\n",
        "    res = numpy.dot(cst[:, :, :fft_length], x[:fft_length])[:, :size, :]\n",
        "    return numpy.transpose(res, (0, 2, 1))\n",
        "\n",
        "\n",
        "rnd = numpy.random.randn(3, 4).astype(numpy.float32)\n",
        "fft_np = numpy.fft.rfft(rnd)\n",
        "fft_cus = dft_real(rnd)\n",
        "fft_np"
      ]
    },
    {
      "cell_type": "markdown",
      "id": "0c052ea1",
      "metadata": {},
      "source": [
        "Function `almost_equal` verifies both functions return the same results."
      ]
    },
    {
      "cell_type": "code",
      "execution_count": 4,
      "id": "3ca040cb",
      "metadata": {},
      "outputs": [],
      "source": [
        "almost_equal(fft_np, fft_cus)"
      ]
    },
    {
      "cell_type": "markdown",
      "id": "7fe77440",
      "metadata": {},
      "source": [
        "Let's do the same with `fft_length < shape[1]`."
      ]
    },
    {
      "cell_type": "code",
      "execution_count": 5,
      "id": "3a747a4a",
      "metadata": {},
      "outputs": [
        {
          "data": {
            "text/plain": [
              "array([[-2.33362436+0.j        ,  2.53363478-0.46225825j],\n",
              "       [ 1.37075108+0.j        ,  2.67671767+2.27864249j],\n",
              "       [-2.10792723+0.j        , -0.09791033-0.55621888j]])"
            ]
          },
          "execution_count": 6,
          "metadata": {},
          "output_type": "execute_result"
        }
      ],
      "source": [
        "fft_np3 = numpy.fft.rfft(rnd, n=3)\n",
        "fft_cus3 = dft_real(rnd, fft_length=3)\n",
        "fft_np3"
      ]
    },
    {
      "cell_type": "code",
      "execution_count": 6,
      "id": "0db6247b",
      "metadata": {},
      "outputs": [],
      "source": [
        "almost_equal(fft_np3, fft_cus3)"
      ]
    },
    {
      "cell_type": "markdown",
      "id": "31a6ac9c",
      "metadata": {},
      "source": [
        "## What about ONNX\n",
        "\n",
        "Let's assume first the number of column of the input matrix is fixed. The result of function `dft_real_cst` can be considered as constant."
      ]
    },
    {
      "cell_type": "code",
      "execution_count": 7,
      "id": "efb67b9b",
      "metadata": {
        "scrolled": false
      },
      "outputs": [
        {
          "ename": "RuntimeError",
          "evalue": "module compiled against API version 0xe but this version of numpy is 0xd",
          "output_type": "error",
          "traceback": [
            "\u001b[1;31m---------------------------------------------------------------------------\u001b[0m",
            "\u001b[1;31mRuntimeError\u001b[0m                              Traceback (most recent call last)",
            "\u001b[1;31mRuntimeError\u001b[0m: module compiled against API version 0xe but this version of numpy is 0xd"
          ]
        },
        {
          "ename": "SystemError",
          "evalue": "<built-in function __import__> returned a result with an error set",
          "output_type": "error",
          "traceback": [
            "\u001b[1;31m---------------------------------------------------------------------------\u001b[0m",
            "\u001b[1;31mImportError\u001b[0m                               Traceback (most recent call last)",
            "\u001b[1;31mImportError\u001b[0m: numpy.core.multiarray failed to import",
            "\nThe above exception was the direct cause of the following exception:\n",
            "\u001b[1;31mSystemError\u001b[0m                               Traceback (most recent call last)",
            "\u001b[1;31mSystemError\u001b[0m: <built-in function __import__> returned a result with an error set"
          ]
        },
        {
          "data": {
            "text/plain": [
              "array([[[-1.9596831e+00,  2.8005197e+00,  3.5039186e-03],\n",
              "        [ 4.8913223e-01,  1.3611429e+00,  5.7541642e+00],\n",
              "        [-2.0480814e+00,  2.2322279e-01, -1.4700280e+00]],\n",
              "\n",
              "       [[ 0.0000000e+00,  1.7294761e+00, -4.3412485e-16],\n",
              "        [ 0.0000000e+00,  8.6927813e-01,  7.5392428e-16],\n",
              "        [ 0.0000000e+00,  4.0871835e-01, -2.2202143e-16]]], dtype=float32)"
            ]
          },
          "execution_count": 8,
          "metadata": {},
          "output_type": "execute_result"
        }
      ],
      "source": [
        "from typing import Any\n",
        "import mlprodict.npy.numpy_onnx_impl as npnx\n",
        "from mlprodict.npy import onnxnumpy_np\n",
        "from mlprodict.npy.onnx_numpy_annotation import NDArrayType\n",
        "# from mlprodict.onnxrt import OnnxInference\n",
        "\n",
        "@onnxnumpy_np(signature=NDArrayType((\"T:all\", ), dtypes_out=('T',)))\n",
        "def onnx_rfft(x, fft_length=None):\n",
        "    if fft_length is None:\n",
        "        raise RuntimeError(\"fft_length must be specified.\")\n",
        "    \n",
        "    size = fft_length // 2 + 1\n",
        "    cst = dft_real_cst(fft_length, fft_length).astype(numpy.float32)\n",
        "    xt = npnx.transpose(x, (1, 0))\n",
        "    res = npnx.dot(cst[:, :, :fft_length], xt[:fft_length])[:, :size, :]\n",
        "    return npnx.transpose(res, (0, 2, 1))\n",
        "\n",
        "fft_onx = onnx_rfft(rnd, fft_length=rnd.shape[1])\n",
        "fft_onx"
      ]
    },
    {
      "cell_type": "code",
      "execution_count": 8,
      "id": "c4b6b1a5",
      "metadata": {},
      "outputs": [],
      "source": [
        "almost_equal(fft_cus, fft_onx)"
      ]
    },
    {
      "cell_type": "markdown",
      "id": "a8c35327",
      "metadata": {},
      "source": [
        "The corresponding ONNX graph is the following:"
      ]
    },
    {
      "cell_type": "code",
      "execution_count": 9,
      "id": "4d1a85b0",
      "metadata": {},
      "outputs": [
        {
          "data": {
            "text/html": [
              "<div id=\"Me58d0a860eb0452e87cf820fc552ea42-cont\"><div id=\"Me58d0a860eb0452e87cf820fc552ea42\" style=\"width:100%;height:100%;\"></div></div>\n",
              "<script>\n",
              "\n",
              "require(['http://www.xavierdupre.fr/js/vizjs/viz.js'], function() { var svgGraph = Viz(\"digraph{\\n  size=None;\\n  orientation=portrait;\\n  nodesep=0.05;\\n  ranksep=0.25;\\n\\n  x [shape=box color=red label=\\\"x\\nfloat(('?',))\\\" fontsize=10];\\n\\n  y [shape=box color=green label=\\\"y\\nfloat(('?',))\\\" fontsize=10];\\n\\n  Ma_MatMulcst [shape=box label=\\\"Ma_MatMulcst\\nfloat32((2, 4, 4))\\n[[[ 1.0000000e+00  1.0000000e+00  1.0000000e+00  1...\\\" fontsize=10];\\n  Sl_Slicecst [shape=box label=\\\"Sl_Slicecst\\nint64((1,))\\n[0]\\\" fontsize=10];\\n  Sl_Slicecst1 [shape=box label=\\\"Sl_Slicecst1\\nint64((1,))\\n[4]\\\" fontsize=10];\\n  Sl_Slicecst4 [shape=box label=\\\"Sl_Slicecst4\\nint64((1,))\\n[3]\\\" fontsize=10];\\n  Sl_Slicecst5 [shape=box label=\\\"Sl_Slicecst5\\nint64((1,))\\n[1]\\\" fontsize=10];\\n\\n  Tr_transposed0 [shape=box label=\\\"Tr_transposed0\\\" fontsize=10];\\n  Tr_Transpose [shape=box style=\\\"filled,rounded\\\" color=orange label=\\\"Transpose\\n(Tr_Transpose)\\nperm=[1 0]\\\" fontsize=10];\\n  x -> Tr_Transpose;\\n  Tr_Transpose -> Tr_transposed0;\\n\\n  Sl_Slicecst2 [shape=box label=\\\"Sl_Slicecst2\\\" fontsize=10];\\n  Sl_Slicecst2_op [shape=box style=\\\"filled,rounded\\\" color=orange label=\\\"Identity\\n(Sl_Slicecst2_op)\\\" fontsize=10];\\n  Sl_Slicecst -> Sl_Slicecst2_op;\\n  Sl_Slicecst2_op -> Sl_Slicecst2;\\n\\n  Sl_output01 [shape=box label=\\\"Sl_output01\\\" fontsize=10];\\n  Sl_Slice [shape=box style=\\\"filled,rounded\\\" color=orange label=\\\"Slice\\n(Sl_Slice)\\\" fontsize=10];\\n  Tr_transposed0 -> Sl_Slice;\\n  Sl_Slicecst -> Sl_Slice;\\n  Sl_Slicecst1 -> Sl_Slice;\\n  Sl_Slicecst2 -> Sl_Slice;\\n  Sl_Slice -> Sl_output01;\\n\\n  Ma_Y0 [shape=box label=\\\"Ma_Y0\\\" fontsize=10];\\n  Ma_MatMul [shape=box style=\\\"filled,rounded\\\" color=orange label=\\\"MatMul\\n(Ma_MatMul)\\\" fontsize=10];\\n  Ma_MatMulcst -> Ma_MatMul;\\n  Sl_output01 -> Ma_MatMul;\\n  Ma_MatMul -> Ma_Y0;\\n\\n  Sl_Slicecst3 [shape=box label=\\\"Sl_Slicecst3\\\" fontsize=10];\\n  Sl_Slicecst3_op [shape=box style=\\\"filled,rounded\\\" color=orange label=\\\"Identity\\n(Sl_Slicecst3_op)\\\" fontsize=10];\\n  Sl_Slicecst -> Sl_Slicecst3_op;\\n  Sl_Slicecst3_op -> Sl_Slicecst3;\\n\\n  Sl_output0 [shape=box label=\\\"Sl_output0\\\" fontsize=10];\\n  Sl_Slice1 [shape=box style=\\\"filled,rounded\\\" color=orange label=\\\"Slice\\n(Sl_Slice1)\\\" fontsize=10];\\n  Ma_Y0 -> Sl_Slice1;\\n  Sl_Slicecst3 -> Sl_Slice1;\\n  Sl_Slicecst4 -> Sl_Slice1;\\n  Sl_Slicecst5 -> Sl_Slice1;\\n  Sl_Slice1 -> Sl_output0;\\n\\n  Tr_Transpose1 [shape=box style=\\\"filled,rounded\\\" color=orange label=\\\"Transpose\\n(Tr_Transpose1)\\nperm=[0 2 1]\\\" fontsize=10];\\n  Sl_output0 -> Tr_Transpose1;\\n  Tr_Transpose1 -> y;\\n}\");\n",
              "document.getElementById('Me58d0a860eb0452e87cf820fc552ea42').innerHTML = svgGraph; });\n",
              "\n",
              "</script>"
            ],
            "text/plain": [
              "<jyquickhelper.jspy.render_nb_js_dot.RenderJsDot at 0x23413163e50>"
            ]
          },
          "execution_count": 10,
          "metadata": {},
          "output_type": "execute_result"
        }
      ],
      "source": [
        "key = list(onnx_rfft.signed_compiled)[0]\n",
        "%onnxview onnx_rfft.signed_compiled[key].compiled.onnx_"
      ]
    },
    {
      "cell_type": "code",
      "execution_count": 10,
      "id": "6cf18aca",
      "metadata": {},
      "outputs": [],
      "source": [
        "fft_onx3 = onnx_rfft(rnd, fft_length=3)\n",
        "almost_equal(fft_cus3, fft_onx3)"
      ]
    },
    {
      "cell_type": "markdown",
      "id": "6b466fd4",
      "metadata": {},
      "source": [
        "## FFT 2D"
      ]
    },
    {
      "cell_type": "code",
      "execution_count": 11,
      "id": "dd4fc711",
      "metadata": {},
      "outputs": [],
      "source": [
        "def _DFT_cst(N, fft_length, trunc=True):\n",
        "    n = numpy.arange(N)\n",
        "    k = n.reshape((N, 1)).astype(numpy.float64)\n",
        "    M = numpy.exp(-2j * numpy.pi * k * n / fft_length)\n",
        "    return M[:fft_length // 2 + 1] if trunc else M\n",
        "\n",
        "def DFT(x, fft_length=None, axis=1):\n",
        "    if axis == 1:\n",
        "        x = x.T\n",
        "    if fft_length is None:\n",
        "        fft_length = x.shape[0]\n",
        "    cst = _DFT_cst(x.shape[0], fft_length, trunc=axis==1)\n",
        "    if axis == 1:\n",
        "        return numpy.dot(cst, x).T\n",
        "    else:\n",
        "        return numpy.dot(cst, x)\n",
        "\n",
        "def fft2d(mat, fft_length):\n",
        "    mat = mat[:fft_length[0], :fft_length[1]]\n",
        "    res = mat.copy()\n",
        "    res = DFT(res, fft_length[1], axis=1)\n",
        "    res = DFT(res, fft_length[0], axis=0)\n",
        "    return res[:fft_length[0], :fft_length[1]//2 + 1]\n",
        "\n",
        "\n",
        "fft2d_np = numpy.fft.rfft2(rnd)\n",
        "fft2d_cus = fft2d(rnd, rnd.shape)"
      ]
    },
    {
      "cell_type": "code",
      "execution_count": 12,
      "id": "bb8667e6",
      "metadata": {},
      "outputs": [
        {
          "data": {
            "text/plain": [
              "array([[-3.51863229+0.j        ,  4.38488531+3.00747257j,\n",
              "         4.28763998+0.j        ],\n",
              "       [-1.18020844-2.1972914j ,  2.40719338+0.10501021j,\n",
              "        -2.13856411-6.25633392j],\n",
              "       [-1.18020844+2.1972914j ,  1.60948043+2.0759455j ,\n",
              "        -2.13856411+6.25633392j]])"
            ]
          },
          "execution_count": 13,
          "metadata": {},
          "output_type": "execute_result"
        }
      ],
      "source": [
        "fft2d_np"
      ]
    },
    {
      "cell_type": "code",
      "execution_count": 13,
      "id": "56a94d97",
      "metadata": {},
      "outputs": [
        {
          "data": {
            "text/plain": [
              "array([[-3.51863229+0.00000000e+00j,  4.38488531+3.00747257e+00j,\n",
              "         4.28763998+9.77780322e-17j],\n",
              "       [-1.18020844-2.19729140e+00j,  2.40719338+1.05010207e-01j,\n",
              "        -2.13856411-6.25633392e+00j],\n",
              "       [-1.18020844+2.19729140e+00j,  1.60948043+2.07594550e+00j,\n",
              "        -2.13856411+6.25633392e+00j]])"
            ]
          },
          "execution_count": 14,
          "metadata": {},
          "output_type": "execute_result"
        }
      ],
      "source": [
        "fft2d_cus"
      ]
    },
    {
      "cell_type": "code",
      "execution_count": 14,
      "id": "1db15a76",
      "metadata": {},
      "outputs": [],
      "source": []
    }
  ],
  "metadata": {
    "kernelspec": {
      "display_name": "Python 3",
      "language": "python",
      "name": "python3"
    },
    "language_info": {
      "codemirror_mode": {
        "name": "ipython",
        "version": 3
      },
      "file_extension": ".py",
      "mimetype": "text/x-python",
      "name": "python",
      "nbconvert_exporter": "python",
      "pygments_lexer": "ipython3",
      "version": "3.9.5"
    }
  },
  "nbformat": 4,
  "nbformat_minor": 5
}