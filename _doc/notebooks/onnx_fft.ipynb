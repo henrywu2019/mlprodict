{
  "cells": [
    {
      "cell_type": "markdown",
      "id": "51bc89fc",
      "metadata": {},
      "source": [
        "# ONNX and FFT\n",
        "\n",
        "ONNX does not fully support complex yet. It does not have any FFT operators either. What if we need them anyway?"
      ]
    },
    {
      "cell_type": "code",
      "execution_count": 1,
      "id": "7b2add97",
      "metadata": {},
      "outputs": [
        {
          "data": {
            "text/html": [
              "<div id=\"my_id_menu_nb\">run previous cell, wait for 2 seconds</div>\n",
              "<script>\n",
              "function repeat_indent_string(n){\n",
              "    var a = \"\" ;\n",
              "    for ( ; n > 0 ; --n)\n",
              "        a += \"    \";\n",
              "    return a;\n",
              "}\n",
              "// look up into all sections and builds an automated menu //\n",
              "var update_menu_string = function(begin, lfirst, llast, sformat, send, keep_item, begin_format, end_format) {\n",
              "    var anchors = document.getElementsByClassName(\"section\");\n",
              "    if (anchors.length == 0) {\n",
              "        anchors = document.getElementsByClassName(\"text_cell_render rendered_html\");\n",
              "    }\n",
              "    var i,t;\n",
              "    var text_menu = begin;\n",
              "    var text_memo = \"<pre>\\nlength:\" + anchors.length + \"\\n\";\n",
              "    var ind = \"\";\n",
              "    var memo_level = 1;\n",
              "    var href;\n",
              "    var tags = [];\n",
              "    var main_item = 0;\n",
              "    var format_open = 0;\n",
              "    for (i = 0; i <= llast; i++)\n",
              "        tags.push(\"h\" + i);\n",
              "\n",
              "    for (i = 0; i < anchors.length; i++) {\n",
              "        text_memo += \"**\" + anchors[i].id + \"--\\n\";\n",
              "\n",
              "        var child = null;\n",
              "        for(t = 0; t < tags.length; t++) {\n",
              "            var r = anchors[i].getElementsByTagName(tags[t]);\n",
              "            if (r.length > 0) {\n",
              "child = r[0];\n",
              "break;\n",
              "            }\n",
              "        }\n",
              "        if (child == null) {\n",
              "            text_memo += \"null\\n\";\n",
              "            continue;\n",
              "        }\n",
              "        if (anchors[i].hasAttribute(\"id\")) {\n",
              "            // when converted in RST\n",
              "            href = anchors[i].id;\n",
              "            text_memo += \"#1-\" + href;\n",
              "            // passer \u00e0 child suivant (le chercher)\n",
              "        }\n",
              "        else if (child.hasAttribute(\"id\")) {\n",
              "            // in a notebook\n",
              "            href = child.id;\n",
              "            text_memo += \"#2-\" + href;\n",
              "        }\n",
              "        else {\n",
              "            text_memo += \"#3-\" + \"*\" + \"\\n\";\n",
              "            continue;\n",
              "        }\n",
              "        var title = child.textContent;\n",
              "        var level = parseInt(child.tagName.substring(1,2));\n",
              "\n",
              "        text_memo += \"--\" + level + \"?\" + lfirst + \"--\" + title + \"\\n\";\n",
              "\n",
              "        if ((level < lfirst) || (level > llast)) {\n",
              "            continue ;\n",
              "        }\n",
              "        if (title.endsWith('\u00b6')) {\n",
              "            title = title.substring(0,title.length-1).replace(\"<\", \"&lt;\")\n",
              "         .replace(\">\", \"&gt;\").replace(\"&\", \"&amp;\");\n",
              "        }\n",
              "        if (title.length == 0) {\n",
              "            continue;\n",
              "        }\n",
              "\n",
              "        while (level < memo_level) {\n",
              "            text_menu += end_format + \"</ul>\\n\";\n",
              "            format_open -= 1;\n",
              "            memo_level -= 1;\n",
              "        }\n",
              "        if (level == lfirst) {\n",
              "            main_item += 1;\n",
              "        }\n",
              "        if (keep_item != -1 && main_item != keep_item + 1) {\n",
              "            // alert(main_item + \" - \" + level + \" - \" + keep_item);\n",
              "            continue;\n",
              "        }\n",
              "        while (level > memo_level) {\n",
              "            text_menu += \"<ul>\\n\";\n",
              "            memo_level += 1;\n",
              "        }\n",
              "        text_menu += repeat_indent_string(level-2);\n",
              "        text_menu += begin_format + sformat.replace(\"__HREF__\", href).replace(\"__TITLE__\", title);\n",
              "        format_open += 1;\n",
              "    }\n",
              "    while (1 < memo_level) {\n",
              "        text_menu += end_format + \"</ul>\\n\";\n",
              "        memo_level -= 1;\n",
              "        format_open -= 1;\n",
              "    }\n",
              "    text_menu += send;\n",
              "    //text_menu += \"\\n\" + text_memo;\n",
              "\n",
              "    while (format_open > 0) {\n",
              "        text_menu += end_format;\n",
              "        format_open -= 1;\n",
              "    }\n",
              "    return text_menu;\n",
              "};\n",
              "var update_menu = function() {\n",
              "    var sbegin = \"\";\n",
              "    var sformat = '<a href=\"#__HREF__\">__TITLE__</a>';\n",
              "    var send = \"\";\n",
              "    var begin_format = '<li>';\n",
              "    var end_format = '</li>';\n",
              "    var keep_item = -1;\n",
              "    var text_menu = update_menu_string(sbegin, 2, 4, sformat, send, keep_item,\n",
              "       begin_format, end_format);\n",
              "    var menu = document.getElementById(\"my_id_menu_nb\");\n",
              "    menu.innerHTML=text_menu;\n",
              "};\n",
              "window.setTimeout(update_menu,2000);\n",
              "            </script>"
            ],
            "text/plain": [
              "<IPython.core.display.HTML object>"
            ]
          },
          "execution_count": 2,
          "metadata": {},
          "output_type": "execute_result"
        }
      ],
      "source": [
        "from jyquickhelper import add_notebook_menu\n",
        "add_notebook_menu()"
      ]
    },
    {
      "cell_type": "code",
      "execution_count": 2,
      "id": "acfdc3b0",
      "metadata": {},
      "outputs": [],
      "source": [
        "%load_ext mlprodict"
      ]
    },
    {
      "cell_type": "code",
      "execution_count": 3,
      "id": "abb5fa88",
      "metadata": {},
      "outputs": [
        {
          "data": {
            "text/plain": [
              "'1.21.0'"
            ]
          },
          "execution_count": 4,
          "metadata": {},
          "output_type": "execute_result"
        }
      ],
      "source": [
        "import numpy\n",
        "numpy.__version__"
      ]
    },
    {
      "cell_type": "markdown",
      "id": "2e4f68e4",
      "metadata": {},
      "source": [
        "## Python implementation of RFFT\n",
        "\n",
        "We try to replicate [numpy.rfft](https://numpy.org/doc/stable/reference/generated/numpy.fft.rfft.html)."
      ]
    },
    {
      "cell_type": "code",
      "execution_count": 4,
      "id": "cb1cc910",
      "metadata": {},
      "outputs": [
        {
          "data": {
            "text/plain": [
              "array([[ 0.92935219+0.j        ,  1.1166406 +0.18610885j,\n",
              "         2.98881347-0.86137828j,  0.57062752-3.17075076j],\n",
              "       [-0.81071034+0.j        ,  4.04571912+1.34415298j,\n",
              "        -0.75316593+1.87375117j, -3.73972034+1.19963451j],\n",
              "       [ 0.49893169+0.j        , -2.38853745+0.91784964j,\n",
              "        -2.3230939 +2.42467461j,  2.84973582+0.96874118j],\n",
              "       [-0.85518897+0.j        , -1.07457921+2.14618057j,\n",
              "         0.67522719-2.17320735j,  1.31480887+2.2782433j ],\n",
              "       [ 2.80867666+0.j        , -2.79453396-2.22901834j,\n",
              "         0.492986  +0.10661537j,  2.65317564+0.57651319j]])"
            ]
          },
          "execution_count": 5,
          "metadata": {},
          "output_type": "execute_result"
        }
      ],
      "source": [
        "import numpy\n",
        "\n",
        "\n",
        "def almost_equal(a, b, error=1e-5):\n",
        "    \"\"\"\n",
        "    The function compares two matrices, one may be complex. In that case,\n",
        "    this matrix is changed into a new matrix with a new first dimension,\n",
        "    [0,::] means real part, [1,::] means imaginary part.\n",
        "    \"\"\"\n",
        "    if a.dtype in (numpy.complex64, numpy.complex128):\n",
        "        dtype = numpy.float64 if a.dtype == numpy.complex128 else numpy.float32\n",
        "        new_a = numpy.empty((2,) + a.shape).astype(dtype)\n",
        "        new_a[0] = numpy.real(a)\n",
        "        new_a[1] = numpy.imag(a)\n",
        "        return almost_equal(new_a, b, error)\n",
        "    if b.dtype in (numpy.complex64, numpy.complex128):\n",
        "        return almost_equal(b, a, error)\n",
        "    if a.shape != b.shape:\n",
        "        raise AssertionError(\"Shape mismatch %r != %r.\" % (a.shape, b.shape))\n",
        "    diff = numpy.abs(a.ravel() - b.ravel()).max()\n",
        "    if diff > error:\n",
        "        raise AssertionError(\"Mismatch max diff=%r > %r.\" % (diff, error))\n",
        "\n",
        "\n",
        "def dft_real_cst(N, fft_length):\n",
        "    n = numpy.arange(N)\n",
        "    k = n.reshape((N, 1)).astype(numpy.float64)\n",
        "    M = numpy.exp(-2j * numpy.pi * k * n / fft_length)\n",
        "    both = numpy.empty((2,) + M.shape)\n",
        "    both[0, :, :] = numpy.real(M)\n",
        "    both[1, :, :] = numpy.imag(M)\n",
        "    return both\n",
        "\n",
        "\n",
        "def dft_real(x, fft_length=None, transpose=True):\n",
        "    if len(x.shape) == 1:\n",
        "        x = x.reshape((1, -1))\n",
        "        N = 1\n",
        "    else:\n",
        "        N = x.shape[0]        \n",
        "    C = x.shape[-1] if transpose else x.shape[-2]\n",
        "    if fft_length is None:\n",
        "        fft_length = x.shape[-1]\n",
        "    size = fft_length // 2 + 1\n",
        "\n",
        "    cst = dft_real_cst(C, fft_length)\n",
        "    if transpose:\n",
        "        x = numpy.transpose(x, (1, 0))\n",
        "        res = numpy.dot(cst[:, :, :fft_length], x[:fft_length])[:, :size, :]\n",
        "        return numpy.transpose(res, (0, 2, 1))\n",
        "    else:\n",
        "        return numpy.dot(cst[:, :, :fft_length], x[:fft_length])\n",
        "\n",
        "\n",
        "rnd = numpy.random.randn(5, 7).astype(numpy.float32)\n",
        "fft_np = numpy.fft.rfft(rnd)\n",
        "fft_cus = dft_real(rnd)\n",
        "fft_np"
      ]
    },
    {
      "cell_type": "markdown",
      "id": "0c052ea1",
      "metadata": {},
      "source": [
        "Function `almost_equal` verifies both functions return the same results."
      ]
    },
    {
      "cell_type": "code",
      "execution_count": 5,
      "id": "3ca040cb",
      "metadata": {},
      "outputs": [],
      "source": [
        "almost_equal(fft_np, fft_cus)"
      ]
    },
    {
      "cell_type": "markdown",
      "id": "7fe77440",
      "metadata": {},
      "source": [
        "Let's do the same with `fft_length < shape[1]`."
      ]
    },
    {
      "cell_type": "code",
      "execution_count": 6,
      "id": "3a747a4a",
      "metadata": {},
      "outputs": [
        {
          "data": {
            "text/plain": [
              "array([[ 0.58212829+0.j        ,  1.91211772-1.78320393j],\n",
              "       [-0.3185378 +0.j        , -0.20609781-1.18129868j],\n",
              "       [-0.81120646+0.j        , -0.28543806+3.05769342j],\n",
              "       [-1.06384408+0.j        ,  0.74100591+0.43276681j],\n",
              "       [ 1.77509081+0.j        , -0.13498855+1.82011058j]])"
            ]
          },
          "execution_count": 7,
          "metadata": {},
          "output_type": "execute_result"
        }
      ],
      "source": [
        "fft_np3 = numpy.fft.rfft(rnd, n=3)\n",
        "fft_cus3 = dft_real(rnd, fft_length=3)\n",
        "fft_np3"
      ]
    },
    {
      "cell_type": "code",
      "execution_count": 7,
      "id": "0db6247b",
      "metadata": {},
      "outputs": [],
      "source": [
        "almost_equal(fft_np3, fft_cus3)"
      ]
    },
    {
      "cell_type": "markdown",
      "id": "31a6ac9c",
      "metadata": {},
      "source": [
        "## RFFT in ONNX\n",
        "\n",
        "Let's assume first the number of column of the input matrix is fixed. The result of function `dft_real_cst` can be considered as constant."
      ]
    },
    {
      "cell_type": "code",
      "execution_count": 8,
      "id": "efb67b9b",
      "metadata": {
        "scrolled": false
      },
      "outputs": [
        {
          "data": {
            "text/plain": [
              "array([[[ 0.92935216,  1.1166406 ,  2.9888134 ,  0.5706275 ],\n",
              "        [-0.81071043,  4.045719  , -0.7531659 , -3.7397203 ],\n",
              "        [ 0.4989317 , -2.3885374 , -2.323094  ,  2.849736  ],\n",
              "        [-0.85518885, -1.0745792 ,  0.6752271 ,  1.3148088 ],\n",
              "        [ 2.8086765 , -2.794534  ,  0.49298596,  2.6531756 ]],\n",
              "\n",
              "       [[ 0.        ,  0.18610872, -0.8613782 , -3.1707506 ],\n",
              "        [ 0.        ,  1.3441529 ,  1.8737512 ,  1.1996344 ],\n",
              "        [ 0.        ,  0.9178499 ,  2.4246747 ,  0.96874106],\n",
              "        [ 0.        ,  2.1461806 , -2.1732073 ,  2.2782433 ],\n",
              "        [ 0.        , -2.2290184 ,  0.10661539,  0.5765133 ]]],\n",
              "      dtype=float32)"
            ]
          },
          "execution_count": 9,
          "metadata": {},
          "output_type": "execute_result"
        }
      ],
      "source": [
        "from typing import Any\n",
        "import mlprodict.npy.numpy_onnx_impl as npnx\n",
        "from mlprodict.npy import onnxnumpy_np\n",
        "from mlprodict.npy.onnx_numpy_annotation import NDArrayType\n",
        "# from mlprodict.onnxrt import OnnxInference\n",
        "\n",
        "@onnxnumpy_np(signature=NDArrayType((\"T:all\", ), dtypes_out=('T',)))\n",
        "def onnx_rfft(x, fft_length=None):\n",
        "    if fft_length is None:\n",
        "        raise RuntimeError(\"fft_length must be specified.\")\n",
        "    \n",
        "    size = fft_length // 2 + 1\n",
        "    cst = dft_real_cst(fft_length, fft_length).astype(numpy.float32)\n",
        "    xt = npnx.transpose(x, (1, 0))\n",
        "    res = npnx.dot(cst[:, :, :fft_length], xt[:fft_length])[:, :size, :]\n",
        "    return npnx.transpose(res, (0, 2, 1))\n",
        "\n",
        "fft_onx = onnx_rfft(rnd, fft_length=rnd.shape[1])\n",
        "fft_onx"
      ]
    },
    {
      "cell_type": "code",
      "execution_count": 9,
      "id": "c4b6b1a5",
      "metadata": {},
      "outputs": [],
      "source": [
        "almost_equal(fft_cus, fft_onx)"
      ]
    },
    {
      "cell_type": "markdown",
      "id": "a8c35327",
      "metadata": {},
      "source": [
        "The corresponding ONNX graph is the following:"
      ]
    },
    {
      "cell_type": "code",
      "execution_count": 10,
      "id": "4d1a85b0",
      "metadata": {},
      "outputs": [
        {
          "data": {
            "text/html": [
              "<div id=\"Ma266ea1b6d5045149fc72ffe7d406583-cont\"><div id=\"Ma266ea1b6d5045149fc72ffe7d406583\" style=\"width:100%;height:100%;\"></div></div>\n",
              "<script>\n",
              "\n",
              "require(['http://www.xavierdupre.fr/js/vizjs/viz.js'], function() { var svgGraph = Viz(\"digraph{\\n  nodesep=0.05;\\n  ranksep=0.25;\\n  size=None;\\n  orientation=portrait;\\n\\n  x [shape=box color=red label=\\\"x\\nfloat(('?',))\\\" fontsize=10];\\n\\n  y [shape=box color=green label=\\\"y\\nfloat(('?',))\\\" fontsize=10];\\n\\n  Ma_MatMulcst [shape=box label=\\\"Ma_MatMulcst\\nfloat32((2, 7, 7))\\n[[[ 1.          1.          1.          1.        ...\\\" fontsize=10];\\n  Sl_Slicecst [shape=box label=\\\"Sl_Slicecst\\nint64((1,))\\n[0]\\\" fontsize=10];\\n  Sl_Slicecst1 [shape=box label=\\\"Sl_Slicecst1\\nint64((1,))\\n[7]\\\" fontsize=10];\\n  Sl_Slicecst4 [shape=box label=\\\"Sl_Slicecst4\\nint64((1,))\\n[4]\\\" fontsize=10];\\n  Sl_Slicecst5 [shape=box label=\\\"Sl_Slicecst5\\nint64((1,))\\n[1]\\\" fontsize=10];\\n\\n  Tr_transposed0 [shape=box label=\\\"Tr_transposed0\\\" fontsize=10];\\n  Tr_Transpose [shape=box style=\\\"filled,rounded\\\" color=orange label=\\\"Transpose\\n(Tr_Transpose)\\nperm=[1 0]\\\" fontsize=10];\\n  x -> Tr_Transpose;\\n  Tr_Transpose -> Tr_transposed0;\\n\\n  Sl_output01 [shape=box label=\\\"Sl_output01\\\" fontsize=10];\\n  Sl_Slice [shape=box style=\\\"filled,rounded\\\" color=orange label=\\\"Slice\\n(Sl_Slice)\\\" fontsize=10];\\n  Tr_transposed0 -> Sl_Slice;\\n  Sl_Slicecst -> Sl_Slice;\\n  Sl_Slicecst1 -> Sl_Slice;\\n  Sl_Slicecst -> Sl_Slice;\\n  Sl_Slice -> Sl_output01;\\n\\n  Ma_Y0 [shape=box label=\\\"Ma_Y0\\\" fontsize=10];\\n  Ma_MatMul [shape=box style=\\\"filled,rounded\\\" color=orange label=\\\"MatMul\\n(Ma_MatMul)\\\" fontsize=10];\\n  Ma_MatMulcst -> Ma_MatMul;\\n  Sl_output01 -> Ma_MatMul;\\n  Ma_MatMul -> Ma_Y0;\\n\\n  Sl_output0 [shape=box label=\\\"Sl_output0\\\" fontsize=10];\\n  Sl_Slice1 [shape=box style=\\\"filled,rounded\\\" color=orange label=\\\"Slice\\n(Sl_Slice1)\\\" fontsize=10];\\n  Ma_Y0 -> Sl_Slice1;\\n  Sl_Slicecst -> Sl_Slice1;\\n  Sl_Slicecst4 -> Sl_Slice1;\\n  Sl_Slicecst5 -> Sl_Slice1;\\n  Sl_Slice1 -> Sl_output0;\\n\\n  Tr_Transpose1 [shape=box style=\\\"filled,rounded\\\" color=orange label=\\\"Transpose\\n(Tr_Transpose1)\\nperm=[0 2 1]\\\" fontsize=10];\\n  Sl_output0 -> Tr_Transpose1;\\n  Tr_Transpose1 -> y;\\n}\");\n",
              "document.getElementById('Ma266ea1b6d5045149fc72ffe7d406583').innerHTML = svgGraph; });\n",
              "\n",
              "</script>"
            ],
            "text/plain": [
              "<jyquickhelper.jspy.render_nb_js_dot.RenderJsDot at 0x159746fd5e0>"
            ]
          },
          "execution_count": 11,
          "metadata": {},
          "output_type": "execute_result"
        }
      ],
      "source": [
        "key = list(onnx_rfft.signed_compiled)[0]\n",
        "%onnxview onnx_rfft.signed_compiled[key].compiled.onnx_"
      ]
    },
    {
      "cell_type": "code",
      "execution_count": 11,
      "id": "6cf18aca",
      "metadata": {},
      "outputs": [],
      "source": [
        "fft_onx3 = onnx_rfft(rnd, fft_length=3)\n",
        "almost_equal(fft_cus3, fft_onx3)"
      ]
    },
    {
      "cell_type": "markdown",
      "id": "6b466fd4",
      "metadata": {},
      "source": [
        "## FFT 2D\n",
        "\n",
        "Below the code for complex features."
      ]
    },
    {
      "cell_type": "code",
      "execution_count": 12,
      "id": "e0020084",
      "metadata": {},
      "outputs": [
        {
          "data": {
            "text/plain": [
              "array([[-2.036582  +0.j        , -0.85992725+6.47780438j,\n",
              "        -3.99332006-3.11192536j, -1.32368431-2.48821071j],\n",
              "       [ 4.37345155-7.03173815j, -3.14890126+1.59632335j,\n",
              "        -3.75306979+0.66651699j, -1.56716114+4.75028368j],\n",
              "       [ 2.76767016+1.25297955j,  5.07926144-2.23393831j,\n",
              "         2.41908275-8.55451105j, -8.84556476-1.29356088j],\n",
              "       [ 2.76767016-1.25297955j,  2.41782872-4.44962381j,\n",
              "        -3.6501426 +4.13120322j,  4.30875103+0.96179243j],\n",
              "       [ 4.37345155+7.03173815j,  1.77135529+4.4385736j ,\n",
              "         2.40878105+5.40109054j, -1.65462983+0.2149866j ]])"
            ]
          },
          "execution_count": 13,
          "metadata": {},
          "output_type": "execute_result"
        }
      ],
      "source": [
        "def _DFT_cst(N, fft_length, trunc=True):\n",
        "    n = numpy.arange(N)\n",
        "    k = n.reshape((N, 1)).astype(numpy.float64)\n",
        "    M = numpy.exp(-2j * numpy.pi * k * n / fft_length)\n",
        "    return M[:fft_length // 2 + 1] if trunc else M\n",
        "\n",
        "def DFT(x, fft_length=None, axis=1):\n",
        "    if axis == 1:\n",
        "        x = x.T\n",
        "    if fft_length is None:\n",
        "        fft_length = x.shape[0]\n",
        "    cst = _DFT_cst(x.shape[0], fft_length, trunc=axis==1)\n",
        "    if axis == 1:\n",
        "        return numpy.dot(cst, x).T\n",
        "    return numpy.dot(cst, x)\n",
        "\n",
        "def fft2d_(mat, fft_length):\n",
        "    mat = mat[:fft_length[0], :fft_length[1]]\n",
        "    res = mat.copy()\n",
        "    res = DFT(res, fft_length[1], axis=1)\n",
        "    res = DFT(res, fft_length[0], axis=0)\n",
        "    return res[:fft_length[0], :fft_length[1]//2 + 1]\n",
        "\n",
        "\n",
        "rnd = numpy.random.randn(5, 7).astype(numpy.float32)\n",
        "fft2d_np_ = fft2d_(rnd, rnd.shape)\n",
        "fft2d_np = numpy.fft.rfft2(rnd)\n",
        "fft2d_np_"
      ]
    },
    {
      "cell_type": "code",
      "execution_count": 13,
      "id": "777d2775",
      "metadata": {},
      "outputs": [],
      "source": [
        "almost_equal(fft2d_np_, fft2d_np)"
      ]
    },
    {
      "cell_type": "markdown",
      "id": "cfbbe2fd",
      "metadata": {},
      "source": [
        "It implies the computation of two FFT 1D along both axes. However, as ONNX does not support complex, it needs to be rewritten with only real numbers. The algorithm can be summarized into this formula $FFT(FFT(x, axis=1), axis=0)$. If *x* is real, $FFT(x, .)$ is complex. We still assume *x* is real, it then becomes (FFT is a linear operator, so $FFT(ix)=i FFT(x)$):\n",
        "\n",
        "* $y = FFT(x, axis=1)$\n",
        "* $z_r = FFT(Real(y), axis=0)$, $z_i = FFT(Imag(y), axis=0)$\n",
        "* $z = z_r + i z_i$\n",
        "\n",
        "*z* is the desired output. The following implementation is probably not the most efficient one. It avoids inplace computation as ONNX does like that."
      ]
    },
    {
      "cell_type": "code",
      "execution_count": 14,
      "id": "dd4fc711",
      "metadata": {},
      "outputs": [],
      "source": [
        "def fft2d(mat, fft_length):\n",
        "    mat = mat[:fft_length[0], :fft_length[1]]\n",
        "    res = mat.copy()\n",
        "    \n",
        "    # first FFT\n",
        "    res = dft_real(res, fft_length=fft_length[1], transpose=True)\n",
        "    \n",
        "    # second FFT decomposed on FFT on real part and imaginary part\n",
        "    res2_real = dft_real(res[0], fft_length=fft_length[0], transpose=False)\n",
        "    res2_imag = dft_real(res[1], fft_length=fft_length[0], transpose=False)    \n",
        "    res2_imag2 = numpy.vstack([-res2_imag[1:2], res2_imag[:1]])\n",
        "    res = res2_real + res2_imag2\n",
        "    size = fft_length[1]//2 + 1\n",
        "    return res[:, :fft_length[0], :size]\n",
        "\n",
        "\n",
        "fft2d_np = numpy.fft.rfft2(rnd)\n",
        "fft2d_cus = fft2d(rnd, rnd.shape)\n",
        "almost_equal(fft2d_np, fft2d_cus)"
      ]
    },
    {
      "cell_type": "code",
      "execution_count": 15,
      "id": "bb8667e6",
      "metadata": {},
      "outputs": [
        {
          "data": {
            "text/plain": [
              "array([[-2.036582  +0.j        , -0.85992725+6.47780438j,\n",
              "        -3.99332006-3.11192536j, -1.32368431-2.48821071j],\n",
              "       [ 4.37345155-7.03173815j, -3.14890126+1.59632335j,\n",
              "        -3.75306979+0.66651699j, -1.56716114+4.75028368j],\n",
              "       [ 2.76767016+1.25297955j,  5.07926144-2.23393831j,\n",
              "         2.41908275-8.55451105j, -8.84556476-1.29356088j],\n",
              "       [ 2.76767016-1.25297955j,  2.41782872-4.44962381j,\n",
              "        -3.6501426 +4.13120322j,  4.30875103+0.96179243j],\n",
              "       [ 4.37345155+7.03173815j,  1.77135529+4.4385736j ,\n",
              "         2.40878105+5.40109054j, -1.65462983+0.2149866j ]])"
            ]
          },
          "execution_count": 16,
          "metadata": {},
          "output_type": "execute_result"
        }
      ],
      "source": [
        "fft2d_np"
      ]
    },
    {
      "cell_type": "code",
      "execution_count": 16,
      "id": "56a94d97",
      "metadata": {},
      "outputs": [
        {
          "data": {
            "text/plain": [
              "array([[[-2.036582  , -0.85992725, -3.99332006, -1.32368431],\n",
              "        [ 4.37345155, -3.14890126, -3.75306979, -1.56716114],\n",
              "        [ 2.76767016,  5.07926144,  2.41908275, -8.84556476],\n",
              "        [ 2.76767016,  2.41782872, -3.6501426 ,  4.30875103],\n",
              "        [ 4.37345155,  1.77135529,  2.40878105, -1.65462983]],\n",
              "\n",
              "       [[ 0.        ,  6.47780438, -3.11192536, -2.48821071],\n",
              "        [-7.03173815,  1.59632335,  0.66651699,  4.75028368],\n",
              "        [ 1.25297955, -2.23393831, -8.55451105, -1.29356088],\n",
              "        [-1.25297955, -4.44962381,  4.13120322,  0.96179243],\n",
              "        [ 7.03173815,  4.4385736 ,  5.40109054,  0.2149866 ]]])"
            ]
          },
          "execution_count": 17,
          "metadata": {},
          "output_type": "execute_result"
        }
      ],
      "source": [
        "fft2d_cus"
      ]
    },
    {
      "cell_type": "markdown",
      "id": "faa21909",
      "metadata": {},
      "source": [
        "And with a different `fft_length`."
      ]
    },
    {
      "cell_type": "code",
      "execution_count": 17,
      "id": "bf98995f",
      "metadata": {},
      "outputs": [],
      "source": [
        "fft2d_np = numpy.fft.rfft2(rnd, (4, 6))\n",
        "fft2d_cus = fft2d(rnd, (4, 6))\n",
        "almost_equal(fft2d_np[:4, :], fft2d_cus)"
      ]
    },
    {
      "cell_type": "markdown",
      "id": "caee1f84",
      "metadata": {},
      "source": [
        "## FFT 2D in ONNX\n",
        "\n",
        "We use again the numpy API for ONNX."
      ]
    },
    {
      "cell_type": "code",
      "execution_count": 18,
      "id": "ca641274",
      "metadata": {},
      "outputs": [],
      "source": [
        "def onnx_rfft_1d(x, fft_length=None, transpose=True):\n",
        "    if fft_length is None:\n",
        "        raise RuntimeError(\"fft_length must be specified.\")\n",
        "    \n",
        "    size = fft_length // 2 + 1\n",
        "    cst = dft_real_cst(fft_length, fft_length).astype(numpy.float32)\n",
        "    if transpose:\n",
        "        xt = npnx.transpose(x, (1, 0))\n",
        "        res = npnx.dot(cst[:, :, :fft_length], xt[:fft_length])[:, :size, :]\n",
        "        return npnx.transpose(res, (0, 2, 1))\n",
        "    else:\n",
        "        return npnx.dot(cst[:, :, :fft_length], x[:fft_length])\n",
        "\n",
        "\n",
        "@onnxnumpy_np(signature=NDArrayType((\"T:all\", ), dtypes_out=('T',)))\n",
        "def onnx_rfft_2d(x, fft_length=None):\n",
        "    mat = x[:fft_length[0], :fft_length[1]]\n",
        "    \n",
        "    # first FFT\n",
        "    res = onnx_rfft_1d(mat, fft_length=fft_length[1], transpose=True)\n",
        "    \n",
        "    # second FFT decomposed on FFT on real part and imaginary part\n",
        "    res2_real = onnx_rfft_1d(res[0], fft_length=fft_length[0], transpose=False)\n",
        "    res2_imag = onnx_rfft_1d(res[1], fft_length=fft_length[0], transpose=False)    \n",
        "    res2_imag2 = npnx.vstack(-res2_imag[1:2], res2_imag[:1])\n",
        "    res = res2_real + res2_imag2\n",
        "    size = fft_length[1]//2 + 1\n",
        "    return res[:, :fft_length[0], :size]\n",
        "\n",
        "\n",
        "fft2d_cus = fft2d(rnd, rnd.shape)\n",
        "fft2d_onx = onnx_rfft_2d(rnd, fft_length=rnd.shape)\n",
        "almost_equal(fft2d_cus, fft2d_onx)"
      ]
    },
    {
      "cell_type": "markdown",
      "id": "20fcd8a9",
      "metadata": {},
      "source": [
        "The corresponding ONNX graph."
      ]
    },
    {
      "cell_type": "code",
      "execution_count": 19,
      "id": "b1379b06",
      "metadata": {
        "scrolled": false
      },
      "outputs": [
        {
          "data": {
            "text/html": [
              "<div id=\"M46c82c35f11642cda1d1be1749750d5b-cont\"><div id=\"M46c82c35f11642cda1d1be1749750d5b\" style=\"width:100%;height:100%;\"></div></div>\n",
              "<script>\n",
              "\n",
              "require(['http://www.xavierdupre.fr/js/vizjs/viz.js'], function() { var svgGraph = Viz(\"digraph{\\n  nodesep=0.05;\\n  ranksep=0.25;\\n  size=None;\\n  orientation=portrait;\\n\\n  x [shape=box color=red label=\\\"x\\nfloat(('?',))\\\" fontsize=10];\\n\\n  y [shape=box color=green label=\\\"y\\nfloat(('?',))\\\" fontsize=10];\\n\\n  Ma_MatMulcst [shape=box label=\\\"Ma_MatMulcst\\nfloat32((2, 5, 5))\\n[[[ 1.          1.          1.          1.        ...\\\" fontsize=10];\\n  Ma_MatMulcst1 [shape=box label=\\\"Ma_MatMulcst1\\nfloat32((2, 7, 7))\\n[[[ 1.          1.          1.          1.        ...\\\" fontsize=10];\\n  Sl_Slicecst [shape=box label=\\\"Sl_Slicecst\\nint64((2,))\\n[0 0]\\\" fontsize=10];\\n  Sl_Slicecst1 [shape=box label=\\\"Sl_Slicecst1\\nint64((2,))\\n[5 7]\\\" fontsize=10];\\n  Sl_Slicecst2 [shape=box label=\\\"Sl_Slicecst2\\nint64((2,))\\n[0 1]\\\" fontsize=10];\\n  Sl_Slicecst3 [shape=box label=\\\"Sl_Slicecst3\\nint64((1,))\\n[0]\\\" fontsize=10];\\n  Sl_Slicecst4 [shape=box label=\\\"Sl_Slicecst4\\nint64((1,))\\n[7]\\\" fontsize=10];\\n  Sl_Slicecst7 [shape=box label=\\\"Sl_Slicecst7\\nint64((1,))\\n[4]\\\" fontsize=10];\\n  Sl_Slicecst8 [shape=box label=\\\"Sl_Slicecst8\\nint64((1,))\\n[1]\\\" fontsize=10];\\n  Ga_Gathercst [shape=box label=\\\"Ga_Gathercst\\nint64(())\\n0\\\" fontsize=10];\\n  Sl_Slicecst10 [shape=box label=\\\"Sl_Slicecst10\\nint64((1,))\\n[5]\\\" fontsize=10];\\n  Ga_Gathercst1 [shape=box label=\\\"Ga_Gathercst1\\nint64(())\\n1\\\" fontsize=10];\\n  Sl_Slicecst16 [shape=box label=\\\"Sl_Slicecst16\\nint64((1,))\\n[2]\\\" fontsize=10];\\n  Sl_Slicecst22 [shape=box label=\\\"Sl_Slicecst22\\nint64((2,))\\n[5 4]\\\" fontsize=10];\\n  Sl_Slicecst23 [shape=box label=\\\"Sl_Slicecst23\\nint64((2,))\\n[1 2]\\\" fontsize=10];\\n\\n  Sl_output03 [shape=box label=\\\"Sl_output03\\\" fontsize=10];\\n  Sl_Slice [shape=box style=\\\"filled,rounded\\\" color=orange label=\\\"Slice\\n(Sl_Slice)\\\" fontsize=10];\\n  x -> Sl_Slice;\\n  Sl_Slicecst -> Sl_Slice;\\n  Sl_Slicecst1 -> Sl_Slice;\\n  Sl_Slicecst2 -> Sl_Slice;\\n  Sl_Slice -> Sl_output03;\\n\\n  Tr_transposed01 [shape=box label=\\\"Tr_transposed01\\\" fontsize=10];\\n  Tr_Transpose [shape=box style=\\\"filled,rounded\\\" color=orange label=\\\"Transpose\\n(Tr_Transpose)\\nperm=[1 0]\\\" fontsize=10];\\n  Sl_output03 -> Tr_Transpose;\\n  Tr_Transpose -> Tr_transposed01;\\n\\n  Sl_output02 [shape=box label=\\\"Sl_output02\\\" fontsize=10];\\n  Sl_Slice1 [shape=box style=\\\"filled,rounded\\\" color=orange label=\\\"Slice\\n(Sl_Slice1)\\\" fontsize=10];\\n  Tr_transposed01 -> Sl_Slice1;\\n  Sl_Slicecst3 -> Sl_Slice1;\\n  Sl_Slicecst4 -> Sl_Slice1;\\n  Sl_Slicecst3 -> Sl_Slice1;\\n  Sl_Slice1 -> Sl_output02;\\n\\n  Ma_Y01 [shape=box label=\\\"Ma_Y01\\\" fontsize=10];\\n  Ma_MatMul [shape=box style=\\\"filled,rounded\\\" color=orange label=\\\"MatMul\\n(Ma_MatMul)\\\" fontsize=10];\\n  Ma_MatMulcst1 -> Ma_MatMul;\\n  Sl_output02 -> Ma_MatMul;\\n  Ma_MatMul -> Ma_Y01;\\n\\n  Sl_output01 [shape=box label=\\\"Sl_output01\\\" fontsize=10];\\n  Sl_Slice2 [shape=box style=\\\"filled,rounded\\\" color=orange label=\\\"Slice\\n(Sl_Slice2)\\\" fontsize=10];\\n  Ma_Y01 -> Sl_Slice2;\\n  Sl_Slicecst3 -> Sl_Slice2;\\n  Sl_Slicecst7 -> Sl_Slice2;\\n  Sl_Slicecst8 -> Sl_Slice2;\\n  Sl_Slice2 -> Sl_output01;\\n\\n  Tr_transposed0 [shape=box label=\\\"Tr_transposed0\\\" fontsize=10];\\n  Tr_Transpose1 [shape=box style=\\\"filled,rounded\\\" color=orange label=\\\"Transpose\\n(Tr_Transpose1)\\nperm=[0 2 1]\\\" fontsize=10];\\n  Sl_output01 -> Tr_Transpose1;\\n  Tr_Transpose1 -> Tr_transposed0;\\n\\n  Ga_output0 [shape=box label=\\\"Ga_output0\\\" fontsize=10];\\n  Ga_Gather [shape=box style=\\\"filled,rounded\\\" color=orange label=\\\"Gather\\n(Ga_Gather)\\naxis=0\\\" fontsize=10];\\n  Tr_transposed0 -> Ga_Gather;\\n  Ga_Gathercst -> Ga_Gather;\\n  Ga_Gather -> Ga_output0;\\n\\n  Sl_output0 [shape=box label=\\\"Sl_output0\\\" fontsize=10];\\n  Sl_Slice3 [shape=box style=\\\"filled,rounded\\\" color=orange label=\\\"Slice\\n(Sl_Slice3)\\\" fontsize=10];\\n  Ga_output0 -> Sl_Slice3;\\n  Sl_Slicecst3 -> Sl_Slice3;\\n  Sl_Slicecst10 -> Sl_Slice3;\\n  Sl_Slicecst3 -> Sl_Slice3;\\n  Sl_Slice3 -> Sl_output0;\\n\\n  Ma_Y0 [shape=box label=\\\"Ma_Y0\\\" fontsize=10];\\n  Ma_MatMul1 [shape=box style=\\\"filled,rounded\\\" color=orange label=\\\"MatMul\\n(Ma_MatMul1)\\\" fontsize=10];\\n  Ma_MatMulcst -> Ma_MatMul1;\\n  Sl_output0 -> Ma_MatMul1;\\n  Ma_MatMul1 -> Ma_Y0;\\n\\n  Ga_output01 [shape=box label=\\\"Ga_output01\\\" fontsize=10];\\n  Ga_Gather1 [shape=box style=\\\"filled,rounded\\\" color=orange label=\\\"Gather\\n(Ga_Gather1)\\naxis=0\\\" fontsize=10];\\n  Tr_transposed0 -> Ga_Gather1;\\n  Ga_Gathercst1 -> Ga_Gather1;\\n  Ga_Gather1 -> Ga_output01;\\n\\n  Sl_output05 [shape=box label=\\\"Sl_output05\\\" fontsize=10];\\n  Sl_Slice4 [shape=box style=\\\"filled,rounded\\\" color=orange label=\\\"Slice\\n(Sl_Slice4)\\\" fontsize=10];\\n  Ga_output01 -> Sl_Slice4;\\n  Sl_Slicecst3 -> Sl_Slice4;\\n  Sl_Slicecst10 -> Sl_Slice4;\\n  Sl_Slicecst3 -> Sl_Slice4;\\n  Sl_Slice4 -> Sl_output05;\\n\\n  Ma_Y02 [shape=box label=\\\"Ma_Y02\\\" fontsize=10];\\n  Ma_MatMul2 [shape=box style=\\\"filled,rounded\\\" color=orange label=\\\"MatMul\\n(Ma_MatMul2)\\\" fontsize=10];\\n  Ma_MatMulcst -> Ma_MatMul2;\\n  Sl_output05 -> Ma_MatMul2;\\n  Ma_MatMul2 -> Ma_Y02;\\n\\n  Sl_output04 [shape=box label=\\\"Sl_output04\\\" fontsize=10];\\n  Sl_Slice5 [shape=box style=\\\"filled,rounded\\\" color=orange label=\\\"Slice\\n(Sl_Slice5)\\\" fontsize=10];\\n  Ma_Y02 -> Sl_Slice5;\\n  Sl_Slicecst8 -> Sl_Slice5;\\n  Sl_Slicecst16 -> Sl_Slice5;\\n  Sl_Slicecst3 -> Sl_Slice5;\\n  Sl_Slice5 -> Sl_output04;\\n\\n  Ne_Y0 [shape=box label=\\\"Ne_Y0\\\" fontsize=10];\\n  Ne_Neg [shape=box style=\\\"filled,rounded\\\" color=orange label=\\\"Neg\\n(Ne_Neg)\\\" fontsize=10];\\n  Sl_output04 -> Ne_Neg;\\n  Ne_Neg -> Ne_Y0;\\n\\n  Sl_output06 [shape=box label=\\\"Sl_output06\\\" fontsize=10];\\n  Sl_Slice6 [shape=box style=\\\"filled,rounded\\\" color=orange label=\\\"Slice\\n(Sl_Slice6)\\\" fontsize=10];\\n  Ma_Y02 -> Sl_Slice6;\\n  Sl_Slicecst3 -> Sl_Slice6;\\n  Sl_Slicecst8 -> Sl_Slice6;\\n  Sl_Slicecst3 -> Sl_Slice6;\\n  Sl_Slice6 -> Sl_output06;\\n\\n  Co_concat_result0 [shape=box label=\\\"Co_concat_result0\\\" fontsize=10];\\n  Co_Concat [shape=box style=\\\"filled,rounded\\\" color=orange label=\\\"Concat\\n(Co_Concat)\\naxis=0\\\" fontsize=10];\\n  Ne_Y0 -> Co_Concat;\\n  Sl_output06 -> Co_Concat;\\n  Co_Concat -> Co_concat_result0;\\n\\n  Ad_C0 [shape=box label=\\\"Ad_C0\\\" fontsize=10];\\n  Ad_Add [shape=box style=\\\"filled,rounded\\\" color=orange label=\\\"Add\\n(Ad_Add)\\\" fontsize=10];\\n  Ma_Y0 -> Ad_Add;\\n  Co_concat_result0 -> Ad_Add;\\n  Ad_Add -> Ad_C0;\\n\\n  Sl_Slice7 [shape=box style=\\\"filled,rounded\\\" color=orange label=\\\"Slice\\n(Sl_Slice7)\\\" fontsize=10];\\n  Ad_C0 -> Sl_Slice7;\\n  Sl_Slicecst -> Sl_Slice7;\\n  Sl_Slicecst22 -> Sl_Slice7;\\n  Sl_Slicecst23 -> Sl_Slice7;\\n  Sl_Slice7 -> y;\\n}\");\n",
              "document.getElementById('M46c82c35f11642cda1d1be1749750d5b').innerHTML = svgGraph; });\n",
              "\n",
              "</script>"
            ],
            "text/plain": [
              "<jyquickhelper.jspy.render_nb_js_dot.RenderJsDot at 0x15974bb6be0>"
            ]
          },
          "execution_count": 20,
          "metadata": {},
          "output_type": "execute_result"
        }
      ],
      "source": [
        "key = list(onnx_rfft_2d.signed_compiled)[0]\n",
        "%onnxview onnx_rfft_2d.signed_compiled[key].compiled.onnx_"
      ]
    },
    {
      "cell_type": "markdown",
      "id": "3a747f0c",
      "metadata": {},
      "source": [
        "With a different `fft_length`."
      ]
    },
    {
      "cell_type": "code",
      "execution_count": 20,
      "id": "16732cbb",
      "metadata": {},
      "outputs": [],
      "source": [
        "fft2d_cus = fft2d(rnd, (4, 5))\n",
        "fft2d_onx = onnx_rfft_2d(rnd, fft_length=(4, 5))\n",
        "almost_equal(fft2d_cus, fft2d_onx)"
      ]
    },
    {
      "cell_type": "markdown",
      "id": "04924e7d",
      "metadata": {},
      "source": [
        "This implementation of FFT in ONNX assumes shapes and fft lengths are constant. Otherwise, the matrix returned by function `dft_real_cst` must be converted as well. That's left as an exercise."
      ]
    },
    {
      "cell_type": "code",
      "execution_count": 21,
      "id": "faeff9cd",
      "metadata": {},
      "outputs": [],
      "source": []
    }
  ],
  "metadata": {
    "kernelspec": {
      "display_name": "Python 3",
      "language": "python",
      "name": "python3"
    },
    "language_info": {
      "codemirror_mode": {
        "name": "ipython",
        "version": 3
      },
      "file_extension": ".py",
      "mimetype": "text/x-python",
      "name": "python",
      "nbconvert_exporter": "python",
      "pygments_lexer": "ipython3",
      "version": "3.9.5"
    }
  },
  "nbformat": 4,
  "nbformat_minor": 5
}